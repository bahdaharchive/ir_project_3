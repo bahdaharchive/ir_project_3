{
 "cells": [
  {
   "cell_type": "code",
   "execution_count": 76,
   "metadata": {},
   "outputs": [],
   "source": [
    "import numpy as np\n",
    "import pandas as pd\n",
    "import pyterrier as pt\n",
    "import time\n",
    "import os\n",
    "if not pt.started():\n",
    "  pt.init()"
   ]
  },
  {
   "cell_type": "code",
   "execution_count": 77,
   "metadata": {},
   "outputs": [],
   "source": [
    "start = time.time()"
   ]
  },
  {
   "cell_type": "code",
   "execution_count": 78,
   "metadata": {},
   "outputs": [],
   "source": [
    "b = False # vaswani / trec\n",
    "if b:\n",
    "    dataset = pt.datasets.get_dataset(\"vaswani\")\n",
    "    indexref = dataset.get_index()\n",
    "    topics = dataset.get_topics()\n",
    "    qrels = dataset.get_qrels()\n",
    "else:\n",
    "    dataset = pt.datasets.get_dataset(\"trec-deep-learning-docs\")\n",
    "    corpus = dataset.get_corpus()\n",
    "    index_path = './trec_dldocs_index'\n",
    "    if not os.path.isdir(index_path):\n",
    "        indexer = pt.TRECCollectionIndexer(index_path)\n",
    "        index_properties = {'block.indexing': 'true', 'invertedfile.lexiconscanner': 'pointers'}\n",
    "        indexer.setProperties(**index_properties)\n",
    "\n",
    "        indexref = indexer.index(dataset.get_corpus())\n",
    "    else:\n",
    "        indexref = pt.autoclass(\"org.terrier.querying.IndexRef\").of(os.path.join(index_path, \"data.properties\"))\n",
    "\n",
    "    topics = dataset.get_topics('test')\n",
    "    qrels = dataset.get_qrels('test')"
   ]
  },
  {
   "cell_type": "code",
   "execution_count": null,
   "metadata": {},
   "outputs": [],
   "source": []
  },
  {
   "cell_type": "code",
   "execution_count": 79,
   "metadata": {},
   "outputs": [
    {
     "name": "stdout",
     "output_type": "stream",
     "text": [
      "<class 'pandas.core.frame.DataFrame'>\n",
      "200\n",
      "16258\n"
     ]
    }
   ],
   "source": [
    "print(type(qrels))\n",
    "print(len(topics))\n",
    "print(len(qrels))"
   ]
  },
  {
   "cell_type": "code",
   "execution_count": null,
   "metadata": {},
   "outputs": [],
   "source": []
  },
  {
   "cell_type": "code",
   "execution_count": 80,
   "metadata": {},
   "outputs": [],
   "source": [
    "#this ranker will make the candidate set of documents for each query\n",
    "BM25 = pt.BatchRetrieve(indexref, controls = {\"wmodel\": \"BM25\"})\n",
    "\n",
    "#these rankers we will use to re-rank the BM25 results\n",
    "TF_IDF =  pt.BatchRetrieve(indexref, controls = {\"wmodel\": \"TF_IDF\"})\n",
    "PL2 =  pt.BatchRetrieve(indexref, controls = {\"wmodel\": \"PL2\"})\n",
    "DPH = pt.BatchRetrieve(indexref, controls = {\"wmodel\": \"DPH\"})\n",
    "PL2F =  pt.BatchRetrieve(indexref, controls = {\"wmodel\": \"PL2F\"})"
   ]
  },
  {
   "cell_type": "code",
   "execution_count": 81,
   "metadata": {},
   "outputs": [],
   "source": [
    "feature_batch_retriever = pt.FeaturesBatchRetrieve(indexref, controls = {\"wmodel\": \"BM25\"}, features=[\"WMODEL:TF_IDF\", \"WMODEL:PL2\", \"WMODEL:DPH\", \"WMODEL:BM25\"]) "
   ]
  },
  {
   "cell_type": "code",
   "execution_count": 82,
   "metadata": {},
   "outputs": [
    {
     "data": {
      "text/plain": [
       "pyterrier.batchretrieve.FeaturesBatchRetrieve"
      ]
     },
     "execution_count": 82,
     "metadata": {},
     "output_type": "execute_result"
    }
   ],
   "source": [
    "type(feature_batch_retriever)"
   ]
  },
  {
   "cell_type": "code",
   "execution_count": 83,
   "metadata": {},
   "outputs": [
    {
     "data": {
      "text/html": [
       "<div>\n",
       "<style scoped>\n",
       "    .dataframe tbody tr th:only-of-type {\n",
       "        vertical-align: middle;\n",
       "    }\n",
       "\n",
       "    .dataframe tbody tr th {\n",
       "        vertical-align: top;\n",
       "    }\n",
       "\n",
       "    .dataframe thead th {\n",
       "        text-align: right;\n",
       "    }\n",
       "</style>\n",
       "<table border=\"1\" class=\"dataframe\">\n",
       "  <thead>\n",
       "    <tr style=\"text-align: right;\">\n",
       "      <th></th>\n",
       "      <th>qid</th>\n",
       "      <th>docid</th>\n",
       "      <th>docno</th>\n",
       "      <th>rank</th>\n",
       "      <th>score</th>\n",
       "      <th>query</th>\n",
       "    </tr>\n",
       "  </thead>\n",
       "  <tbody>\n",
       "    <tr>\n",
       "      <th>0</th>\n",
       "      <td>1</td>\n",
       "      <td>1821403</td>\n",
       "      <td>D1715600</td>\n",
       "      <td>0</td>\n",
       "      <td>3.875790</td>\n",
       "      <td>world</td>\n",
       "    </tr>\n",
       "    <tr>\n",
       "      <th>1</th>\n",
       "      <td>1</td>\n",
       "      <td>1093198</td>\n",
       "      <td>D3051298</td>\n",
       "      <td>1</td>\n",
       "      <td>3.870458</td>\n",
       "      <td>world</td>\n",
       "    </tr>\n",
       "  </tbody>\n",
       "</table>\n",
       "</div>"
      ],
      "text/plain": [
       "  qid    docid     docno  rank     score  query\n",
       "0   1  1821403  D1715600     0  3.875790  world\n",
       "1   1  1093198  D3051298     1  3.870458  world"
      ]
     },
     "execution_count": 83,
     "metadata": {},
     "output_type": "execute_result"
    }
   ],
   "source": [
    "(BM25 %2).transform(\"world\")"
   ]
  },
  {
   "cell_type": "code",
   "execution_count": 84,
   "metadata": {},
   "outputs": [
    {
     "data": {
      "text/html": [
       "<div>\n",
       "<style scoped>\n",
       "    .dataframe tbody tr th:only-of-type {\n",
       "        vertical-align: middle;\n",
       "    }\n",
       "\n",
       "    .dataframe tbody tr th {\n",
       "        vertical-align: top;\n",
       "    }\n",
       "\n",
       "    .dataframe thead th {\n",
       "        text-align: right;\n",
       "    }\n",
       "</style>\n",
       "<table border=\"1\" class=\"dataframe\">\n",
       "  <thead>\n",
       "    <tr style=\"text-align: right;\">\n",
       "      <th></th>\n",
       "      <th>qid</th>\n",
       "      <th>docid</th>\n",
       "      <th>docno</th>\n",
       "      <th>rank</th>\n",
       "      <th>score</th>\n",
       "      <th>query</th>\n",
       "    </tr>\n",
       "  </thead>\n",
       "  <tbody>\n",
       "    <tr>\n",
       "      <th>0</th>\n",
       "      <td>1</td>\n",
       "      <td>1821403</td>\n",
       "      <td>D1715600</td>\n",
       "      <td>0</td>\n",
       "      <td>6.304447</td>\n",
       "      <td>world</td>\n",
       "    </tr>\n",
       "    <tr>\n",
       "      <th>1</th>\n",
       "      <td>1</td>\n",
       "      <td>1093198</td>\n",
       "      <td>D3051298</td>\n",
       "      <td>1</td>\n",
       "      <td>6.068830</td>\n",
       "      <td>world</td>\n",
       "    </tr>\n",
       "    <tr>\n",
       "      <th>2</th>\n",
       "      <td>1</td>\n",
       "      <td>919708</td>\n",
       "      <td>D262132</td>\n",
       "      <td>2</td>\n",
       "      <td>5.900087</td>\n",
       "      <td>world</td>\n",
       "    </tr>\n",
       "    <tr>\n",
       "      <th>3</th>\n",
       "      <td>1</td>\n",
       "      <td>148486</td>\n",
       "      <td>D1759484</td>\n",
       "      <td>3</td>\n",
       "      <td>5.863672</td>\n",
       "      <td>world</td>\n",
       "    </tr>\n",
       "    <tr>\n",
       "      <th>4</th>\n",
       "      <td>1</td>\n",
       "      <td>1318667</td>\n",
       "      <td>D396706</td>\n",
       "      <td>4</td>\n",
       "      <td>5.808389</td>\n",
       "      <td>world</td>\n",
       "    </tr>\n",
       "    <tr>\n",
       "      <th>...</th>\n",
       "      <td>...</td>\n",
       "      <td>...</td>\n",
       "      <td>...</td>\n",
       "      <td>...</td>\n",
       "      <td>...</td>\n",
       "      <td>...</td>\n",
       "    </tr>\n",
       "    <tr>\n",
       "      <th>995</th>\n",
       "      <td>1</td>\n",
       "      <td>182820</td>\n",
       "      <td>D710517</td>\n",
       "      <td>995</td>\n",
       "      <td>4.096101</td>\n",
       "      <td>world</td>\n",
       "    </tr>\n",
       "    <tr>\n",
       "      <th>996</th>\n",
       "      <td>1</td>\n",
       "      <td>1714426</td>\n",
       "      <td>D1866160</td>\n",
       "      <td>996</td>\n",
       "      <td>4.095477</td>\n",
       "      <td>world</td>\n",
       "    </tr>\n",
       "    <tr>\n",
       "      <th>997</th>\n",
       "      <td>1</td>\n",
       "      <td>861041</td>\n",
       "      <td>D2366639</td>\n",
       "      <td>997</td>\n",
       "      <td>4.095193</td>\n",
       "      <td>world</td>\n",
       "    </tr>\n",
       "    <tr>\n",
       "      <th>998</th>\n",
       "      <td>1</td>\n",
       "      <td>2910972</td>\n",
       "      <td>D697217</td>\n",
       "      <td>998</td>\n",
       "      <td>4.094977</td>\n",
       "      <td>world</td>\n",
       "    </tr>\n",
       "    <tr>\n",
       "      <th>999</th>\n",
       "      <td>1</td>\n",
       "      <td>1551412</td>\n",
       "      <td>D552734</td>\n",
       "      <td>999</td>\n",
       "      <td>4.094841</td>\n",
       "      <td>world</td>\n",
       "    </tr>\n",
       "  </tbody>\n",
       "</table>\n",
       "<p>1000 rows × 6 columns</p>\n",
       "</div>"
      ],
      "text/plain": [
       "    qid    docid     docno  rank     score  query\n",
       "0     1  1821403  D1715600     0  6.304447  world\n",
       "1     1  1093198  D3051298     1  6.068830  world\n",
       "2     1   919708   D262132     2  5.900087  world\n",
       "3     1   148486  D1759484     3  5.863672  world\n",
       "4     1  1318667   D396706     4  5.808389  world\n",
       "..   ..      ...       ...   ...       ...    ...\n",
       "995   1   182820   D710517   995  4.096101  world\n",
       "996   1  1714426  D1866160   996  4.095477  world\n",
       "997   1   861041  D2366639   997  4.095193  world\n",
       "998   1  2910972   D697217   998  4.094977  world\n",
       "999   1  1551412   D552734   999  4.094841  world\n",
       "\n",
       "[1000 rows x 6 columns]"
      ]
     },
     "execution_count": 84,
     "metadata": {},
     "output_type": "execute_result"
    }
   ],
   "source": [
    "(PL2).transform(\"world\")"
   ]
  },
  {
   "cell_type": "code",
   "execution_count": 85,
   "metadata": {},
   "outputs": [],
   "source": [
    "train_topics, valid_topics, test_topics = np.split(topics, [int(.6*len(topics)), int(.8*len(topics))])"
   ]
  },
  {
   "cell_type": "code",
   "execution_count": 86,
   "metadata": {},
   "outputs": [],
   "source": [
    "from sklearn.ensemble import RandomForestRegressor\n",
    "\n",
    "ltr_model = feature_batch_retriever >> pt.pipelines.LTR_pipeline(RandomForestRegressor(n_estimators=400))\n",
    "ltr_model.fit(train_topics, qrels)"
   ]
  },
  {
   "cell_type": "code",
   "execution_count": 87,
   "metadata": {},
   "outputs": [
    {
     "data": {
      "text/html": [
       "<div>\n",
       "<style scoped>\n",
       "    .dataframe tbody tr th:only-of-type {\n",
       "        vertical-align: middle;\n",
       "    }\n",
       "\n",
       "    .dataframe tbody tr th {\n",
       "        vertical-align: top;\n",
       "    }\n",
       "\n",
       "    .dataframe thead th {\n",
       "        text-align: right;\n",
       "    }\n",
       "</style>\n",
       "<table border=\"1\" class=\"dataframe\">\n",
       "  <thead>\n",
       "    <tr style=\"text-align: right;\">\n",
       "      <th></th>\n",
       "      <th>name</th>\n",
       "      <th>map</th>\n",
       "      <th>ndcg</th>\n",
       "    </tr>\n",
       "  </thead>\n",
       "  <tbody>\n",
       "    <tr>\n",
       "      <th>0</th>\n",
       "      <td>TF-IDF</td>\n",
       "      <td>0.307107</td>\n",
       "      <td>0.643992</td>\n",
       "    </tr>\n",
       "    <tr>\n",
       "      <th>1</th>\n",
       "      <td>BM25 algorithm</td>\n",
       "      <td>0.306435</td>\n",
       "      <td>0.645085</td>\n",
       "    </tr>\n",
       "    <tr>\n",
       "      <th>2</th>\n",
       "      <td>PL2 Baseline</td>\n",
       "      <td>0.339192</td>\n",
       "      <td>0.674200</td>\n",
       "    </tr>\n",
       "    <tr>\n",
       "      <th>3</th>\n",
       "      <td>LTR Random Forest</td>\n",
       "      <td>0.184951</td>\n",
       "      <td>0.495573</td>\n",
       "    </tr>\n",
       "  </tbody>\n",
       "</table>\n",
       "</div>"
      ],
      "text/plain": [
       "                name       map      ndcg\n",
       "0             TF-IDF  0.307107  0.643992\n",
       "1     BM25 algorithm  0.306435  0.645085\n",
       "2       PL2 Baseline  0.339192  0.674200\n",
       "3  LTR Random Forest  0.184951  0.495573"
      ]
     },
     "execution_count": 87,
     "metadata": {},
     "output_type": "execute_result"
    }
   ],
   "source": [
    "results = pt.pipelines.Experiment([TF_IDF, BM25, PL2, ltr_model], test_topics, qrels, [\"map\", \"ndcg\"], names=[\"TF-IDF\", \"BM25 algorithm\", \"PL2 Baseline\", \"LTR Random Forest\"])\n",
    "results"
   ]
  },
  {
   "cell_type": "code",
   "execution_count": 88,
   "metadata": {},
   "outputs": [
    {
     "data": {
      "image/png": "[encoded data removed]",
      "text/plain": [
       "<Figure size 432x288 with 1 Axes>"
      ]
     },
     "metadata": {
      "needs_background": "light"
     },
     "output_type": "display_data"
    }
   ],
   "source": [
    "import matplotlib.pyplot as plt  # plotting libraries\n",
    "\n",
    "def run_experiment(trained_model, mop, start= 10, finish = 600, incrementer = 25, top_k_model = BM25, title=\"sample title\"):\n",
    "    k_list = []\n",
    "    moe_list = []\n",
    "    for k in range(start, finish, incrementer):\n",
    "        efficient_pipeline = top_k_model % k >> trained_model\n",
    "        results = pt.pipelines.Experiment([efficient_pipeline], test_topics, qrels, [mop], names=[\"model\"])\n",
    "        k_list.append(k)\n",
    "        moe_list.append(results[mop].iloc[0])\n",
    "        \n",
    "        plt.plot(k_list, moe_list)\n",
    "        plt.xlabel(\"K\")\n",
    "        plt.ylabel(mop)\n",
    "        file_name = title.replace(\" \", \"-\")\n",
    "        plt.title(title)\n",
    "        plt.savefig(file_name)\n",
    "        \n",
    "run_experiment(ltr_model, \"ndcg\", title = \"K's Affect on NDCG in Learning to Rank\")"
   ]
  },
  {
   "cell_type": "code",
   "execution_count": 89,
   "metadata": {},
   "outputs": [
    {
     "data": {
      "image/png": "[encoded data removed]",
      "text/plain": [
       "<Figure size 432x288 with 1 Axes>"
      ]
     },
     "metadata": {
      "needs_background": "light"
     },
     "output_type": "display_data"
    }
   ],
   "source": [
    "run_experiment(ltr_model, \"map\",incrementer=100,finish=2000, title = \"K's Affect on MAP in Learning to Rank\")"
   ]
  },
  {
   "cell_type": "code",
   "execution_count": 90,
   "metadata": {},
   "outputs": [
    {
     "data": {
      "image/png": "[encoded data removed]",
      "text/plain": [
       "<Figure size 432x288 with 1 Axes>"
      ]
     },
     "metadata": {
      "needs_background": "light"
     },
     "output_type": "display_data"
    }
   ],
   "source": [
    "from datetime import datetime\n",
    "def run_experiment_execution_time(trained_model, samples = 3, start= 10, finish = 600, incrementer = 20, title=\"K Verses Time to Rank\"):\n",
    "    k_list = []\n",
    "    moe_list_mb25 = []\n",
    "    moe_list_pl2 = []\n",
    "    for k in range(start, finish, incrementer):\n",
    "        total = 0.0\n",
    "        for i in range(0, samples):\n",
    "            start_time = datetime.now()\n",
    "            efficient_pipeline = BM25 % k >> trained_model\n",
    "            results = pt.pipelines.Experiment([efficient_pipeline], test_topics, qrels, [\"map\"], names=[\"model\"])\n",
    "            finish_time = datetime.now()\n",
    "            elapse_time = (finish_time - start_time).total_seconds()\n",
    "            total += elapse_time\n",
    "        k_list.append(k)\n",
    "        moe_list_mb25.append(total/samples)\n",
    "        total = 0.0\n",
    "        for i in range(0, samples):\n",
    "            start_time = datetime.now()\n",
    "            efficient_pipeline = PL2 % k >> trained_model\n",
    "            results = pt.pipelines.Experiment([efficient_pipeline], test_topics, qrels, [\"map\"], names=[\"model\"])\n",
    "            finish_time = datetime.now()\n",
    "            elapse_time = (finish_time - start_time).total_seconds()\n",
    "            total += elapse_time\n",
    "        moe_list_pl2.append(total/samples)\n",
    "        \n",
    "    plt.plot(k_list, moe_list_mb25, label=\"LTR BM25 Pipeline\")\n",
    "    plt.plot(k_list, moe_list_pl2, label=\"LTR PL2 Pipeline\")\n",
    "    plt.xlabel(\"K\")\n",
    "    plt.ylabel(\"Time Seconds\")\n",
    "    file_name = title.replace(\" \", \"-\")\n",
    "    plt.title(title)\n",
    "    plt.legend()\n",
    "    plt.savefig(file_name)\n",
    "run_experiment_execution_time(ltr_model, incrementer=20)"
   ]
  },
  {
   "cell_type": "code",
   "execution_count": 91,
   "metadata": {},
   "outputs": [
    {
     "data": {
      "image/png": "[encoded data removed]",
      "text/plain": [
       "<Figure size 432x288 with 1 Axes>"
      ]
     },
     "metadata": {
      "needs_background": "light"
     },
     "output_type": "display_data"
    }
   ],
   "source": [
    "def run_experiment_model(trained_model, mop, start= 10, finish = 600, incrementer = 25, title=\"sample title\"):\n",
    "    k_list = []\n",
    "    bm25_list = []\n",
    "    pl2_list = []\n",
    "    for k in range(start, finish, incrementer):\n",
    "        efficient_pipeline_bm_52 = BM25 % k >> trained_model\n",
    "        results = pt.pipelines.Experiment([efficient_pipeline_bm_52], test_topics, qrels, [mop], names=[\"model\"])\n",
    "        k_list.append(k)\n",
    "        bm25_list.append(results[mop].iloc[0])\n",
    "        \n",
    "        efficient_pipeline_pl2 = PL2 % k >> trained_model\n",
    "        results = pt.pipelines.Experiment([efficient_pipeline_pl2], test_topics, qrels, [mop], names=[\"model\"])\n",
    "        pl2_list.append(results[mop].iloc[0])\n",
    "        \n",
    "    plt.plot(k_list, bm25_list, label=\"LTR BM25 Pipeline\")\n",
    "    plt.plot(k_list, pl2_list, label=\"LTR PL2 Pipeline\")\n",
    "    plt.xlabel(\"K\")\n",
    "    plt.ylabel(mop)\n",
    "    file_name = title.replace(\" \", \"-\")\n",
    "    plt.title(title)\n",
    "    plt.legend()\n",
    "    plt.savefig(file_name)\n",
    "run_experiment_model(ltr_model,\"ndcg\", title=\"BM25 vs PL2 vs K\")       \n",
    "        "
   ]
  },
  {
   "cell_type": "code",
   "execution_count": 92,
   "metadata": {},
   "outputs": [
    {
     "data": {
      "image/png": "[encoded data removed]",
      "text/plain": [
       "<Figure size 432x288 with 1 Axes>"
      ]
     },
     "metadata": {
      "needs_background": "light"
     },
     "output_type": "display_data"
    }
   ],
   "source": [
    "run_experiment_model(ltr_model,\"map\", title=\"BM25 vs PL2 vs K\")       "
   ]
  },
  {
   "cell_type": "code",
   "execution_count": 93,
   "metadata": {},
   "outputs": [
    {
     "data": {
      "text/html": [
       "<div>\n",
       "<style scoped>\n",
       "    .dataframe tbody tr th:only-of-type {\n",
       "        vertical-align: middle;\n",
       "    }\n",
       "\n",
       "    .dataframe tbody tr th {\n",
       "        vertical-align: top;\n",
       "    }\n",
       "\n",
       "    .dataframe thead th {\n",
       "        text-align: right;\n",
       "    }\n",
       "</style>\n",
       "<table border=\"1\" class=\"dataframe\">\n",
       "  <thead>\n",
       "    <tr style=\"text-align: right;\">\n",
       "      <th></th>\n",
       "      <th>dataset</th>\n",
       "      <th>topics</th>\n",
       "      <th>qrels</th>\n",
       "      <th>corpus</th>\n",
       "      <th>index</th>\n",
       "    </tr>\n",
       "  </thead>\n",
       "  <tbody>\n",
       "    <tr>\n",
       "      <th>0</th>\n",
       "      <td>50pct</td>\n",
       "      <td>None</td>\n",
       "      <td>None</td>\n",
       "      <td>None</td>\n",
       "      <td>True</td>\n",
       "    </tr>\n",
       "    <tr>\n",
       "      <th>1</th>\n",
       "      <td>vaswani</td>\n",
       "      <td>True</td>\n",
       "      <td>True</td>\n",
       "      <td>True</td>\n",
       "      <td>True</td>\n",
       "    </tr>\n",
       "    <tr>\n",
       "      <th>2</th>\n",
       "      <td>trec-deep-learning-docs</td>\n",
       "      <td>(train, dev, test, test-2020, leaderboard-2020)</td>\n",
       "      <td>(train, dev, test)</td>\n",
       "      <td>True</td>\n",
       "      <td>None</td>\n",
       "    </tr>\n",
       "    <tr>\n",
       "      <th>3</th>\n",
       "      <td>trec-deep-learning-passages</td>\n",
       "      <td>(train, dev, eval, test-2019)</td>\n",
       "      <td>(train, dev, test-2019)</td>\n",
       "      <td>True</td>\n",
       "      <td>None</td>\n",
       "    </tr>\n",
       "    <tr>\n",
       "      <th>4</th>\n",
       "      <td>trec-robust-2004</td>\n",
       "      <td>True</td>\n",
       "      <td>True</td>\n",
       "      <td>None</td>\n",
       "      <td>None</td>\n",
       "    </tr>\n",
       "    <tr>\n",
       "      <th>5</th>\n",
       "      <td>trec-robust-2005</td>\n",
       "      <td>True</td>\n",
       "      <td>True</td>\n",
       "      <td>None</td>\n",
       "      <td>None</td>\n",
       "    </tr>\n",
       "    <tr>\n",
       "      <th>6</th>\n",
       "      <td>trec-precision-medicine</td>\n",
       "      <td>(2017, 2018, 2019, 2020)</td>\n",
       "      <td>(qrels-2017-abstracts, qrels-2017-abstracts-sa...</td>\n",
       "      <td>None</td>\n",
       "      <td>None</td>\n",
       "    </tr>\n",
       "    <tr>\n",
       "      <th>7</th>\n",
       "      <td>trec-covid</td>\n",
       "      <td>(round1, round2, round3, round4, round5)</td>\n",
       "      <td>(round1, round2, round3, round3-cumulative, ro...</td>\n",
       "      <td>(round4, round5)</td>\n",
       "      <td>None</td>\n",
       "    </tr>\n",
       "    <tr>\n",
       "      <th>8</th>\n",
       "      <td>trec-wt2g</td>\n",
       "      <td>True</td>\n",
       "      <td>True</td>\n",
       "      <td>None</td>\n",
       "      <td>None</td>\n",
       "    </tr>\n",
       "    <tr>\n",
       "      <th>9</th>\n",
       "      <td>trec-wt-2002</td>\n",
       "      <td>(td, np)</td>\n",
       "      <td>(np, td)</td>\n",
       "      <td>None</td>\n",
       "      <td>None</td>\n",
       "    </tr>\n",
       "    <tr>\n",
       "      <th>10</th>\n",
       "      <td>trec-wt-2003</td>\n",
       "      <td>(td, np)</td>\n",
       "      <td>(np, td)</td>\n",
       "      <td>None</td>\n",
       "      <td>None</td>\n",
       "    </tr>\n",
       "    <tr>\n",
       "      <th>11</th>\n",
       "      <td>trec-wt-2004</td>\n",
       "      <td>(all, np, hp, td)</td>\n",
       "      <td>(hp, td, np, all)</td>\n",
       "      <td>None</td>\n",
       "      <td>None</td>\n",
       "    </tr>\n",
       "    <tr>\n",
       "      <th>12</th>\n",
       "      <td>trec-wt-2009</td>\n",
       "      <td>True</td>\n",
       "      <td>(adhoc, adhoc.catA, adhoc.catB)</td>\n",
       "      <td>None</td>\n",
       "      <td>None</td>\n",
       "    </tr>\n",
       "    <tr>\n",
       "      <th>13</th>\n",
       "      <td>trec-wt-2010</td>\n",
       "      <td>True</td>\n",
       "      <td>(adhoc)</td>\n",
       "      <td>None</td>\n",
       "      <td>None</td>\n",
       "    </tr>\n",
       "    <tr>\n",
       "      <th>14</th>\n",
       "      <td>trec-wt-2011</td>\n",
       "      <td>True</td>\n",
       "      <td>(adhoc)</td>\n",
       "      <td>None</td>\n",
       "      <td>None</td>\n",
       "    </tr>\n",
       "    <tr>\n",
       "      <th>15</th>\n",
       "      <td>trec-wt-2012</td>\n",
       "      <td>True</td>\n",
       "      <td>(adhoc)</td>\n",
       "      <td>None</td>\n",
       "      <td>None</td>\n",
       "    </tr>\n",
       "  </tbody>\n",
       "</table>\n",
       "</div>"
      ],
      "text/plain": [
       "                        dataset  \\\n",
       "0                         50pct   \n",
       "1                       vaswani   \n",
       "2       trec-deep-learning-docs   \n",
       "3   trec-deep-learning-passages   \n",
       "4              trec-robust-2004   \n",
       "5              trec-robust-2005   \n",
       "6       trec-precision-medicine   \n",
       "7                    trec-covid   \n",
       "8                     trec-wt2g   \n",
       "9                  trec-wt-2002   \n",
       "10                 trec-wt-2003   \n",
       "11                 trec-wt-2004   \n",
       "12                 trec-wt-2009   \n",
       "13                 trec-wt-2010   \n",
       "14                 trec-wt-2011   \n",
       "15                 trec-wt-2012   \n",
       "\n",
       "                                             topics  \\\n",
       "0                                              None   \n",
       "1                                              True   \n",
       "2   (train, dev, test, test-2020, leaderboard-2020)   \n",
       "3                     (train, dev, eval, test-2019)   \n",
       "4                                              True   \n",
       "5                                              True   \n",
       "6                          (2017, 2018, 2019, 2020)   \n",
       "7          (round1, round2, round3, round4, round5)   \n",
       "8                                              True   \n",
       "9                                          (td, np)   \n",
       "10                                         (td, np)   \n",
       "11                                (all, np, hp, td)   \n",
       "12                                             True   \n",
       "13                                             True   \n",
       "14                                             True   \n",
       "15                                             True   \n",
       "\n",
       "                                                qrels            corpus index  \n",
       "0                                                None              None  True  \n",
       "1                                                True              True  True  \n",
       "2                                  (train, dev, test)              True  None  \n",
       "3                             (train, dev, test-2019)              True  None  \n",
       "4                                                True              None  None  \n",
       "5                                                True              None  None  \n",
       "6   (qrels-2017-abstracts, qrels-2017-abstracts-sa...              None  None  \n",
       "7   (round1, round2, round3, round3-cumulative, ro...  (round4, round5)  None  \n",
       "8                                                True              None  None  \n",
       "9                                            (np, td)              None  None  \n",
       "10                                           (np, td)              None  None  \n",
       "11                                  (hp, td, np, all)              None  None  \n",
       "12                    (adhoc, adhoc.catA, adhoc.catB)              None  None  \n",
       "13                                            (adhoc)              None  None  \n",
       "14                                            (adhoc)              None  None  \n",
       "15                                            (adhoc)              None  None  "
      ]
     },
     "execution_count": 93,
     "metadata": {},
     "output_type": "execute_result"
    }
   ],
   "source": [
    "pt.datasets.list_datasets()"
   ]
  },
  {
   "cell_type": "code",
   "execution_count": 94,
   "metadata": {},
   "outputs": [
    {
     "name": "stdout",
     "output_type": "stream",
     "text": [
      "1728.935649394989\n"
     ]
    }
   ],
   "source": [
    "end = time.time()\n",
    "print(end - start)"
   ]
  }
 ],
 "metadata": {
  "kernelspec": {
   "display_name": "Python 3",
   "language": "python",
   "name": "python3"
  },
  "language_info": {
   "codemirror_mode": {
    "name": "ipython",
    "version": 3
   },
   "file_extension": ".py",
   "mimetype": "text/x-python",
   "name": "python",
   "nbconvert_exporter": "python",
   "pygments_lexer": "ipython3",
   "version": "3.8.5"
  }
 },
 "nbformat": 4,
 "nbformat_minor": 4
}
