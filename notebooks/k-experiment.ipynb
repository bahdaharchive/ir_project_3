{
 "cells": [
  {
   "cell_type": "code",
   "execution_count": 53,
   "metadata": {},
   "outputs": [],
   "source": [
    "import numpy as np\n",
    "import pandas as pd\n",
    "import pyterrier as pt\n",
    "if not pt.started():\n",
    "  pt.init()"
   ]
  },
  {
   "cell_type": "code",
   "execution_count": null,
   "metadata": {},
   "outputs": [],
   "source": [
    "def get_webtrack_gov():\n",
    "#     for k in [\"trec-wt-2002\", \"trec-wt-2003\", \"trec-wt-2004\"]:\n",
    "    for k in [\"trec-wt-2004\"]:\n",
    "        ds = pt.get_dataset(k)\n",
    "        print(dir(ds))\n",
    "#         for t in [\"np\", \"td\", \"hp\"]:\n",
    "        for t in [\"all\"]:\n",
    "            topics = ds.get_topics(t)\n",
    "            indexref=ds.get_index\n",
    "            qrels = ds.get_qrels(t)\n",
    "            return (qrels, topics, indexref)\n",
    "\n",
    "qrels, topics, indexref = get_webtrack_gov()"
   ]
  },
  {
   "cell_type": "code",
   "execution_count": 54,
   "metadata": {},
   "outputs": [
    {
     "name": "stdout",
     "output_type": "stream",
     "text": [
      "<class 'jnius.reflect.org.terrier.querying.IndexRef'>\n"
     ]
    }
   ],
   "source": [
    "dataset = pt.datasets.get_dataset(\"vaswani\")\n",
    "#dataset = pt.datasets.get_dataset(\"trec-wt-2012\")\n",
    "indexref = dataset.get_index()\n",
    "print(type(indexref))\n",
    "topics = dataset.get_topics()\n",
    "qrels = dataset.get_qrels()"
   ]
  },
  {
   "cell_type": "code",
   "execution_count": 55,
   "metadata": {},
   "outputs": [
    {
     "name": "stdout",
     "output_type": "stream",
     "text": [
      "<class 'pandas.core.frame.DataFrame'>\n",
      "93\n",
      "2083\n"
     ]
    }
   ],
   "source": [
    "print(type(qrels))\n",
    "print(len(topics))\n",
    "print(len(qrels))"
   ]
  },
  {
   "cell_type": "code",
   "execution_count": null,
   "metadata": {},
   "outputs": [],
   "source": []
  },
  {
   "cell_type": "code",
   "execution_count": 56,
   "metadata": {},
   "outputs": [],
   "source": [
    "#this ranker will make the candidate set of documents for each query\n",
    "BM25 = pt.BatchRetrieve(indexref, controls = {\"wmodel\": \"BM25\"})\n",
    "\n",
    "#these rankers we will use to re-rank the BM25 results\n",
    "TF_IDF =  pt.BatchRetrieve(indexref, controls = {\"wmodel\": \"TF_IDF\"})\n",
    "PL2 =  pt.BatchRetrieve(indexref, controls = {\"wmodel\": \"PL2\"})\n",
    "DPH = pt.BatchRetrieve(indexref, controls = {\"wmodel\": \"DPH\"})\n",
    "PL2F =  pt.BatchRetrieve(indexref, controls = {\"wmodel\": \"PL2F\"})"
   ]
  },
  {
   "cell_type": "code",
   "execution_count": 60,
   "metadata": {},
   "outputs": [],
   "source": [
    "feature_batch_retriever = pt.FeaturesBatchRetrieve(indexref, controls = {\"wmodel\": \"BM25\"}, features=[\"WMODEL:TF_IDF\", \"WMODEL:PL2\", \"WMODEL:DPH\", \"WMODEL:BM25\"]) "
   ]
  },
  {
   "cell_type": "code",
   "execution_count": 50,
   "metadata": {},
   "outputs": [
    {
     "data": {
      "text/plain": [
       "pyterrier.batchretrieve.FeaturesBatchRetrieve"
      ]
     },
     "execution_count": 50,
     "metadata": {},
     "output_type": "execute_result"
    }
   ],
   "source": [
    "type(feature_batch_retriever)"
   ]
  },
  {
   "cell_type": "code",
   "execution_count": 51,
   "metadata": {},
   "outputs": [
    {
     "data": {
      "text/html": [
       "<div>\n",
       "<style scoped>\n",
       "    .dataframe tbody tr th:only-of-type {\n",
       "        vertical-align: middle;\n",
       "    }\n",
       "\n",
       "    .dataframe tbody tr th {\n",
       "        vertical-align: top;\n",
       "    }\n",
       "\n",
       "    .dataframe thead th {\n",
       "        text-align: right;\n",
       "    }\n",
       "</style>\n",
       "<table border=\"1\" class=\"dataframe\">\n",
       "  <thead>\n",
       "    <tr style=\"text-align: right;\">\n",
       "      <th></th>\n",
       "      <th>qid</th>\n",
       "      <th>docid</th>\n",
       "      <th>docno</th>\n",
       "      <th>rank</th>\n",
       "      <th>score</th>\n",
       "      <th>query</th>\n",
       "    </tr>\n",
       "  </thead>\n",
       "  <tbody>\n",
       "    <tr>\n",
       "      <th>0</th>\n",
       "      <td>1</td>\n",
       "      <td>11388</td>\n",
       "      <td>11389</td>\n",
       "      <td>0</td>\n",
       "      <td>11.070585</td>\n",
       "      <td>world</td>\n",
       "    </tr>\n",
       "    <tr>\n",
       "      <th>1</th>\n",
       "      <td>1</td>\n",
       "      <td>236</td>\n",
       "      <td>237</td>\n",
       "      <td>1</td>\n",
       "      <td>10.532366</td>\n",
       "      <td>world</td>\n",
       "    </tr>\n",
       "  </tbody>\n",
       "</table>\n",
       "</div>"
      ],
      "text/plain": [
       "  qid  docid  docno  rank      score  query\n",
       "0   1  11388  11389     0  11.070585  world\n",
       "1   1    236    237     1  10.532366  world"
      ]
     },
     "execution_count": 51,
     "metadata": {},
     "output_type": "execute_result"
    }
   ],
   "source": [
    "(BM25 %2).transform(\"world\")"
   ]
  },
  {
   "cell_type": "code",
   "execution_count": 23,
   "metadata": {},
   "outputs": [
    {
     "data": {
      "text/html": [
       "<div>\n",
       "<style scoped>\n",
       "    .dataframe tbody tr th:only-of-type {\n",
       "        vertical-align: middle;\n",
       "    }\n",
       "\n",
       "    .dataframe tbody tr th {\n",
       "        vertical-align: top;\n",
       "    }\n",
       "\n",
       "    .dataframe thead th {\n",
       "        text-align: right;\n",
       "    }\n",
       "</style>\n",
       "<table border=\"1\" class=\"dataframe\">\n",
       "  <thead>\n",
       "    <tr style=\"text-align: right;\">\n",
       "      <th></th>\n",
       "      <th>qid</th>\n",
       "      <th>docid</th>\n",
       "      <th>docno</th>\n",
       "      <th>rank</th>\n",
       "      <th>score</th>\n",
       "      <th>query</th>\n",
       "    </tr>\n",
       "  </thead>\n",
       "  <tbody>\n",
       "    <tr>\n",
       "      <th>0</th>\n",
       "      <td>1</td>\n",
       "      <td>11388</td>\n",
       "      <td>11389</td>\n",
       "      <td>0</td>\n",
       "      <td>5.709237</td>\n",
       "      <td>world</td>\n",
       "    </tr>\n",
       "    <tr>\n",
       "      <th>1</th>\n",
       "      <td>1</td>\n",
       "      <td>236</td>\n",
       "      <td>237</td>\n",
       "      <td>1</td>\n",
       "      <td>5.418427</td>\n",
       "      <td>world</td>\n",
       "    </tr>\n",
       "    <tr>\n",
       "      <th>2</th>\n",
       "      <td>1</td>\n",
       "      <td>10678</td>\n",
       "      <td>10679</td>\n",
       "      <td>2</td>\n",
       "      <td>5.072714</td>\n",
       "      <td>world</td>\n",
       "    </tr>\n",
       "    <tr>\n",
       "      <th>3</th>\n",
       "      <td>1</td>\n",
       "      <td>11000</td>\n",
       "      <td>11001</td>\n",
       "      <td>3</td>\n",
       "      <td>5.004905</td>\n",
       "      <td>world</td>\n",
       "    </tr>\n",
       "    <tr>\n",
       "      <th>4</th>\n",
       "      <td>1</td>\n",
       "      <td>3130</td>\n",
       "      <td>3131</td>\n",
       "      <td>4</td>\n",
       "      <td>4.813460</td>\n",
       "      <td>world</td>\n",
       "    </tr>\n",
       "    <tr>\n",
       "      <th>...</th>\n",
       "      <td>...</td>\n",
       "      <td>...</td>\n",
       "      <td>...</td>\n",
       "      <td>...</td>\n",
       "      <td>...</td>\n",
       "      <td>...</td>\n",
       "    </tr>\n",
       "    <tr>\n",
       "      <th>66</th>\n",
       "      <td>1</td>\n",
       "      <td>5806</td>\n",
       "      <td>5807</td>\n",
       "      <td>66</td>\n",
       "      <td>2.060231</td>\n",
       "      <td>world</td>\n",
       "    </tr>\n",
       "    <tr>\n",
       "      <th>67</th>\n",
       "      <td>1</td>\n",
       "      <td>4923</td>\n",
       "      <td>4924</td>\n",
       "      <td>67</td>\n",
       "      <td>2.034954</td>\n",
       "      <td>world</td>\n",
       "    </tr>\n",
       "    <tr>\n",
       "      <th>68</th>\n",
       "      <td>1</td>\n",
       "      <td>4509</td>\n",
       "      <td>4510</td>\n",
       "      <td>68</td>\n",
       "      <td>2.034954</td>\n",
       "      <td>world</td>\n",
       "    </tr>\n",
       "    <tr>\n",
       "      <th>69</th>\n",
       "      <td>1</td>\n",
       "      <td>3445</td>\n",
       "      <td>3446</td>\n",
       "      <td>69</td>\n",
       "      <td>1.686487</td>\n",
       "      <td>world</td>\n",
       "    </tr>\n",
       "    <tr>\n",
       "      <th>70</th>\n",
       "      <td>1</td>\n",
       "      <td>7144</td>\n",
       "      <td>7145</td>\n",
       "      <td>70</td>\n",
       "      <td>1.667646</td>\n",
       "      <td>world</td>\n",
       "    </tr>\n",
       "  </tbody>\n",
       "</table>\n",
       "<p>71 rows × 6 columns</p>\n",
       "</div>"
      ],
      "text/plain": [
       "   qid  docid  docno  rank     score  query\n",
       "0    1  11388  11389     0  5.709237  world\n",
       "1    1    236    237     1  5.418427  world\n",
       "2    1  10678  10679     2  5.072714  world\n",
       "3    1  11000  11001     3  5.004905  world\n",
       "4    1   3130   3131     4  4.813460  world\n",
       "..  ..    ...    ...   ...       ...    ...\n",
       "66   1   5806   5807    66  2.060231  world\n",
       "67   1   4923   4924    67  2.034954  world\n",
       "68   1   4509   4510    68  2.034954  world\n",
       "69   1   3445   3446    69  1.686487  world\n",
       "70   1   7144   7145    70  1.667646  world\n",
       "\n",
       "[71 rows x 6 columns]"
      ]
     },
     "execution_count": 23,
     "metadata": {},
     "output_type": "execute_result"
    }
   ],
   "source": [
    "(PL2).transform(\"world\")"
   ]
  },
  {
   "cell_type": "code",
   "execution_count": 58,
   "metadata": {},
   "outputs": [],
   "source": [
    "train_topics, valid_topics, test_topics = np.split(topics, [int(.6*len(topics)), int(.8*len(topics))])"
   ]
  },
  {
   "cell_type": "code",
   "execution_count": 61,
   "metadata": {},
   "outputs": [],
   "source": [
    "from sklearn.ensemble import RandomForestRegressor\n",
    "\n",
    "ltr_model = feature_batch_retriever >> pt.pipelines.LTR_pipeline(RandomForestRegressor(n_estimators=400))\n",
    "ltr_model.fit(train_topics, qrels)"
   ]
  },
  {
   "cell_type": "code",
   "execution_count": 71,
   "metadata": {},
   "outputs": [
    {
     "data": {
      "text/html": [
       "<div>\n",
       "<style scoped>\n",
       "    .dataframe tbody tr th:only-of-type {\n",
       "        vertical-align: middle;\n",
       "    }\n",
       "\n",
       "    .dataframe tbody tr th {\n",
       "        vertical-align: top;\n",
       "    }\n",
       "\n",
       "    .dataframe thead th {\n",
       "        text-align: right;\n",
       "    }\n",
       "</style>\n",
       "<table border=\"1\" class=\"dataframe\">\n",
       "  <thead>\n",
       "    <tr style=\"text-align: right;\">\n",
       "      <th></th>\n",
       "      <th>name</th>\n",
       "      <th>map</th>\n",
       "      <th>ndcg</th>\n",
       "    </tr>\n",
       "  </thead>\n",
       "  <tbody>\n",
       "    <tr>\n",
       "      <th>0</th>\n",
       "      <td>TF-IDF</td>\n",
       "      <td>0.217554</td>\n",
       "      <td>0.550142</td>\n",
       "    </tr>\n",
       "    <tr>\n",
       "      <th>1</th>\n",
       "      <td>BM25 algorithm</td>\n",
       "      <td>0.217680</td>\n",
       "      <td>0.551313</td>\n",
       "    </tr>\n",
       "    <tr>\n",
       "      <th>2</th>\n",
       "      <td>PL2 Baseline</td>\n",
       "      <td>0.206031</td>\n",
       "      <td>0.537795</td>\n",
       "    </tr>\n",
       "    <tr>\n",
       "      <th>3</th>\n",
       "      <td>LTR Random Forest</td>\n",
       "      <td>0.147983</td>\n",
       "      <td>0.495264</td>\n",
       "    </tr>\n",
       "  </tbody>\n",
       "</table>\n",
       "</div>"
      ],
      "text/plain": [
       "                name       map      ndcg\n",
       "0             TF-IDF  0.217554  0.550142\n",
       "1     BM25 algorithm  0.217680  0.551313\n",
       "2       PL2 Baseline  0.206031  0.537795\n",
       "3  LTR Random Forest  0.147983  0.495264"
      ]
     },
     "execution_count": 71,
     "metadata": {},
     "output_type": "execute_result"
    }
   ],
   "source": [
    "results = pt.pipelines.Experiment([TF_IDF, BM25, PL2, ltr_model], test_topics, qrels, [\"map\", \"ndcg\"], names=[\"TF-IDF\", \"BM25 algorithm\", \"PL2 Baseline\", \"LTR Random Forest\"])\n",
    "results"
   ]
  },
  {
   "cell_type": "code",
   "execution_count": 63,
   "metadata": {},
   "outputs": [
    {
     "data": {
      "image/png": "[encoded data removed]",
      "text/plain": [
       "<Figure size 432x288 with 1 Axes>"
      ]
     },
     "metadata": {
      "needs_background": "light"
     },
     "output_type": "display_data"
    }
   ],
   "source": [
    "import matplotlib.pyplot as plt  # plotting libraries\n",
    "\n",
    "def run_experiment(trained_model, mop, start= 10, finish = 600, incrementer = 25, top_k_model = BM25, title=\"sample title\"):\n",
    "    k_list = []\n",
    "    moe_list = []\n",
    "    for k in range(start, finish, incrementer):\n",
    "        efficient_pipeline = top_k_model % k >> trained_model\n",
    "        results = pt.pipelines.Experiment([efficient_pipeline], test_topics, qrels, [mop], names=[\"model\"])\n",
    "        k_list.append(k)\n",
    "        moe_list.append(results[mop].iloc[0])\n",
    "        \n",
    "        plt.plot(k_list, moe_list)\n",
    "        plt.xlabel(\"K\")\n",
    "        plt.ylabel(mop)\n",
    "        file_name = title.replace(\" \", \"-\")\n",
    "        plt.title(title)\n",
    "        plt.savefig(file_name)\n",
    "        \n",
    "run_experiment(ltr_model, \"ndcg\", title = \"K's Affect on NDCG in Learning to Rank\")"
   ]
  },
  {
   "cell_type": "code",
   "execution_count": 70,
   "metadata": {},
   "outputs": [
    {
     "data": {
      "image/png": "[encoded data removed]",
      "text/plain": [
       "<Figure size 432x288 with 1 Axes>"
      ]
     },
     "metadata": {
      "needs_background": "light"
     },
     "output_type": "display_data"
    }
   ],
   "source": [
    "run_experiment(ltr_model, \"map\",incrementer=100,finish=2000, title = \"K's Affect on MAP in Learning to Rank\")"
   ]
  },
  {
   "cell_type": "code",
   "execution_count": 75,
   "metadata": {},
   "outputs": [
    {
     "data": {
      "image/png": "[encoded data removed]",
      "text/plain": [
       "<Figure size 432x288 with 1 Axes>"
      ]
     },
     "metadata": {
      "needs_background": "light"
     },
     "output_type": "display_data"
    }
   ],
   "source": [
    "from datetime import datetime\n",
    "def run_experiment_execution_time(trained_model, samples = 3, start= 10, finish = 600, incrementer = 20, title=\"K Verses Time to Rank\"):\n",
    "    k_list = []\n",
    "    moe_list_mb25 = []\n",
    "    moe_list_pl2 = []\n",
    "    for k in range(start, finish, incrementer):\n",
    "        total = 0.0\n",
    "        for i in range(0, samples):\n",
    "            start_time = datetime.now()\n",
    "            efficient_pipeline = BM25 % k >> trained_model\n",
    "            results = pt.pipelines.Experiment([efficient_pipeline], test_topics, qrels, [\"map\"], names=[\"model\"])\n",
    "            finish_time = datetime.now()\n",
    "            elapse_time = (finish_time - start_time).total_seconds()\n",
    "            total += elapse_time\n",
    "        k_list.append(k)\n",
    "        moe_list_mb25.append(total/samples)\n",
    "        total = 0.0\n",
    "        for i in range(0, samples):\n",
    "            start_time = datetime.now()\n",
    "            efficient_pipeline = PL2 % k >> trained_model\n",
    "            results = pt.pipelines.Experiment([efficient_pipeline], test_topics, qrels, [\"map\"], names=[\"model\"])\n",
    "            finish_time = datetime.now()\n",
    "            elapse_time = (finish_time - start_time).total_seconds()\n",
    "            total += elapse_time\n",
    "        moe_list_pl2.append(total/samples)\n",
    "        \n",
    "    plt.plot(k_list, moe_list_mb25, label=\"LTR BM25 Pipeline\")\n",
    "    plt.plot(k_list, moe_list_pl2, label=\"LTR PL2 Pipeline\")\n",
    "    plt.xlabel(\"K\")\n",
    "    plt.ylabel(\"Time Seconds\")\n",
    "    file_name = title.replace(\" \", \"-\")\n",
    "    plt.title(title)\n",
    "    plt.legend()\n",
    "    plt.savefig(file_name)\n",
    "run_experiment_execution_time(ltr_model, incrementer=20)"
   ]
  },
  {
   "cell_type": "code",
   "execution_count": 76,
   "metadata": {},
   "outputs": [
    {
     "data": {
      "image/png": "[encoded data removed]",
      "text/plain": [
       "<Figure size 432x288 with 1 Axes>"
      ]
     },
     "metadata": {
      "needs_background": "light"
     },
     "output_type": "display_data"
    }
   ],
   "source": [
    "def run_experiment_model(trained_model, mop, start= 10, finish = 600, incrementer = 25, title=\"sample title\"):\n",
    "    k_list = []\n",
    "    bm25_list = []\n",
    "    pl2_list = []\n",
    "    for k in range(start, finish, incrementer):\n",
    "        efficient_pipeline_bm_52 = BM25 % k >> trained_model\n",
    "        results = pt.pipelines.Experiment([efficient_pipeline_bm_52], test_topics, qrels, [mop], names=[\"model\"])\n",
    "        k_list.append(k)\n",
    "        bm25_list.append(results[mop].iloc[0])\n",
    "        \n",
    "        efficient_pipeline_pl2 = PL2 % k >> trained_model\n",
    "        results = pt.pipelines.Experiment([efficient_pipeline_pl2], test_topics, qrels, [mop], names=[\"model\"])\n",
    "        pl2_list.append(results[mop].iloc[0])\n",
    "        \n",
    "    plt.plot(k_list, bm25_list, label=\"LTR BM25 Pipeline\")\n",
    "    plt.plot(k_list, pl2_list, label=\"LTR PL2 Pipeline\")\n",
    "    plt.xlabel(\"K\")\n",
    "    plt.ylabel(mop)\n",
    "    file_name = title.replace(\" \", \"-\")\n",
    "    plt.title(title)\n",
    "    plt.legend()\n",
    "    plt.savefig(file_name)\n",
    "run_experiment_model(ltr_model,\"ndcg\", title=\"BM25 vs PL2 vs K\")       \n",
    "        "
   ]
  },
  {
   "cell_type": "code",
   "execution_count": 77,
   "metadata": {},
   "outputs": [
    {
     "data": {
      "image/png": "[encoded data removed]",
      "text/plain": [
       "<Figure size 432x288 with 1 Axes>"
      ]
     },
     "metadata": {
      "needs_background": "light"
     },
     "output_type": "display_data"
    }
   ],
   "source": [
    "run_experiment_model(ltr_model,\"map\", title=\"BM25 vs PL2 vs K\")       "
   ]
  },
  {
   "cell_type": "code",
   "execution_count": 33,
   "metadata": {},
   "outputs": [
    {
     "data": {
      "text/html": [
       "<div>\n",
       "<style scoped>\n",
       "    .dataframe tbody tr th:only-of-type {\n",
       "        vertical-align: middle;\n",
       "    }\n",
       "\n",
       "    .dataframe tbody tr th {\n",
       "        vertical-align: top;\n",
       "    }\n",
       "\n",
       "    .dataframe thead th {\n",
       "        text-align: right;\n",
       "    }\n",
       "</style>\n",
       "<table border=\"1\" class=\"dataframe\">\n",
       "  <thead>\n",
       "    <tr style=\"text-align: right;\">\n",
       "      <th></th>\n",
       "      <th>dataset</th>\n",
       "      <th>topics</th>\n",
       "      <th>qrels</th>\n",
       "      <th>corpus</th>\n",
       "      <th>index</th>\n",
       "    </tr>\n",
       "  </thead>\n",
       "  <tbody>\n",
       "    <tr>\n",
       "      <th>0</th>\n",
       "      <td>50pct</td>\n",
       "      <td>None</td>\n",
       "      <td>None</td>\n",
       "      <td>None</td>\n",
       "      <td>True</td>\n",
       "    </tr>\n",
       "    <tr>\n",
       "      <th>1</th>\n",
       "      <td>vaswani</td>\n",
       "      <td>True</td>\n",
       "      <td>True</td>\n",
       "      <td>True</td>\n",
       "      <td>True</td>\n",
       "    </tr>\n",
       "    <tr>\n",
       "      <th>2</th>\n",
       "      <td>trec-deep-learning-docs</td>\n",
       "      <td>(train, dev, test, test-2020, leaderboard-2020)</td>\n",
       "      <td>(train, dev, test)</td>\n",
       "      <td>True</td>\n",
       "      <td>None</td>\n",
       "    </tr>\n",
       "    <tr>\n",
       "      <th>3</th>\n",
       "      <td>trec-robust-2004</td>\n",
       "      <td>True</td>\n",
       "      <td>True</td>\n",
       "      <td>None</td>\n",
       "      <td>None</td>\n",
       "    </tr>\n",
       "    <tr>\n",
       "      <th>4</th>\n",
       "      <td>trec-robust-2005</td>\n",
       "      <td>True</td>\n",
       "      <td>True</td>\n",
       "      <td>None</td>\n",
       "      <td>None</td>\n",
       "    </tr>\n",
       "    <tr>\n",
       "      <th>5</th>\n",
       "      <td>trec-precision-medicine</td>\n",
       "      <td>(2017, 2018, 2019, 2020)</td>\n",
       "      <td>(qrels-2017-abstracts, qrels-2017-abstracts-sa...</td>\n",
       "      <td>None</td>\n",
       "      <td>None</td>\n",
       "    </tr>\n",
       "    <tr>\n",
       "      <th>6</th>\n",
       "      <td>trec-covid</td>\n",
       "      <td>(round1, round2, round3, round4, round5)</td>\n",
       "      <td>(round1, round2, round3, round3-cumulative, ro...</td>\n",
       "      <td>(round4, round5)</td>\n",
       "      <td>None</td>\n",
       "    </tr>\n",
       "    <tr>\n",
       "      <th>7</th>\n",
       "      <td>trec-wt2g</td>\n",
       "      <td>True</td>\n",
       "      <td>True</td>\n",
       "      <td>None</td>\n",
       "      <td>None</td>\n",
       "    </tr>\n",
       "    <tr>\n",
       "      <th>8</th>\n",
       "      <td>trec-wt-2002</td>\n",
       "      <td>(td, np)</td>\n",
       "      <td>(np, td)</td>\n",
       "      <td>None</td>\n",
       "      <td>None</td>\n",
       "    </tr>\n",
       "    <tr>\n",
       "      <th>9</th>\n",
       "      <td>trec-wt-2003</td>\n",
       "      <td>(td, np)</td>\n",
       "      <td>(np, td)</td>\n",
       "      <td>None</td>\n",
       "      <td>None</td>\n",
       "    </tr>\n",
       "    <tr>\n",
       "      <th>10</th>\n",
       "      <td>trec-wt-2004</td>\n",
       "      <td>(all, np, hp, td)</td>\n",
       "      <td>(hp, td, np, all)</td>\n",
       "      <td>None</td>\n",
       "      <td>None</td>\n",
       "    </tr>\n",
       "    <tr>\n",
       "      <th>11</th>\n",
       "      <td>trec-wt-2009</td>\n",
       "      <td>True</td>\n",
       "      <td>(adhoc, adhoc.catA, adhoc.catB)</td>\n",
       "      <td>None</td>\n",
       "      <td>None</td>\n",
       "    </tr>\n",
       "    <tr>\n",
       "      <th>12</th>\n",
       "      <td>trec-wt-2010</td>\n",
       "      <td>True</td>\n",
       "      <td>(adhoc)</td>\n",
       "      <td>None</td>\n",
       "      <td>None</td>\n",
       "    </tr>\n",
       "    <tr>\n",
       "      <th>13</th>\n",
       "      <td>trec-wt-2011</td>\n",
       "      <td>True</td>\n",
       "      <td>(adhoc)</td>\n",
       "      <td>None</td>\n",
       "      <td>None</td>\n",
       "    </tr>\n",
       "    <tr>\n",
       "      <th>14</th>\n",
       "      <td>trec-wt-2012</td>\n",
       "      <td>True</td>\n",
       "      <td>(adhoc)</td>\n",
       "      <td>None</td>\n",
       "      <td>None</td>\n",
       "    </tr>\n",
       "  </tbody>\n",
       "</table>\n",
       "</div>"
      ],
      "text/plain": [
       "                    dataset                                           topics  \\\n",
       "0                     50pct                                             None   \n",
       "1                   vaswani                                             True   \n",
       "2   trec-deep-learning-docs  (train, dev, test, test-2020, leaderboard-2020)   \n",
       "3          trec-robust-2004                                             True   \n",
       "4          trec-robust-2005                                             True   \n",
       "5   trec-precision-medicine                         (2017, 2018, 2019, 2020)   \n",
       "6                trec-covid         (round1, round2, round3, round4, round5)   \n",
       "7                 trec-wt2g                                             True   \n",
       "8              trec-wt-2002                                         (td, np)   \n",
       "9              trec-wt-2003                                         (td, np)   \n",
       "10             trec-wt-2004                                (all, np, hp, td)   \n",
       "11             trec-wt-2009                                             True   \n",
       "12             trec-wt-2010                                             True   \n",
       "13             trec-wt-2011                                             True   \n",
       "14             trec-wt-2012                                             True   \n",
       "\n",
       "                                                qrels            corpus index  \n",
       "0                                                None              None  True  \n",
       "1                                                True              True  True  \n",
       "2                                  (train, dev, test)              True  None  \n",
       "3                                                True              None  None  \n",
       "4                                                True              None  None  \n",
       "5   (qrels-2017-abstracts, qrels-2017-abstracts-sa...              None  None  \n",
       "6   (round1, round2, round3, round3-cumulative, ro...  (round4, round5)  None  \n",
       "7                                                True              None  None  \n",
       "8                                            (np, td)              None  None  \n",
       "9                                            (np, td)              None  None  \n",
       "10                                  (hp, td, np, all)              None  None  \n",
       "11                    (adhoc, adhoc.catA, adhoc.catB)              None  None  \n",
       "12                                            (adhoc)              None  None  \n",
       "13                                            (adhoc)              None  None  \n",
       "14                                            (adhoc)              None  None  "
      ]
     },
     "execution_count": 33,
     "metadata": {},
     "output_type": "execute_result"
    }
   ],
   "source": [
    "pt.datasets.list_datasets()"
   ]
  }
 ],
 "metadata": {
  "kernelspec": {
   "display_name": "Python 3",
   "language": "python",
   "name": "python3"
  },
  "language_info": {
   "codemirror_mode": {
    "name": "ipython",
    "version": 3
   },
   "file_extension": ".py",
   "mimetype": "text/x-python",
   "name": "python",
   "nbconvert_exporter": "python",
   "pygments_lexer": "ipython3",
   "version": "3.8.2"
  }
 },
 "nbformat": 4,
 "nbformat_minor": 4
}
